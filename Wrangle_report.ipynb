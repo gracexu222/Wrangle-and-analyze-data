{
 "cells": [
  {
   "cell_type": "markdown",
   "metadata": {},
   "source": [
    "## WeRateDogs Data Wrangling Report\n",
    "\n",
    "#### * Grace Xu *"
   ]
  },
  {
   "cell_type": "markdown",
   "metadata": {},
   "source": [
    "### Target of this project\n",
    "Wrangle WeRateDogs Twitter data to create interesting and trustworthy analyses and visualizations."
   ]
  },
  {
   "cell_type": "markdown",
   "metadata": {},
   "source": [
    "### Project Details\n",
    "The dataset that was wrangled, analyzed and visualized is the tweet archive of Twitter user [@dog_rates](https://twitter.com/dog_rates), also known as [WeRateDogs](https://en.wikipedia.org/wiki/WeRateDogs). WeRateDogs is a Twitter account that rates people's dogs with a humorous comment about the dog."
   ]
  },
  {
   "cell_type": "markdown",
   "metadata": {},
   "source": [
    "### Gathering Data\n",
    "Firstly,I was download .csv dataset to local and read the dataset.secondly, I gathering the tweet image predictions data which hosted in Udacity's server and read it.Last, I stored tweets JSON Data usin Tweepy which need to apply a new tweeter API application including consumer_key,consumer_secret,accsee_token and access_secret.be careful to move your own API information replace with placeholders.\n",
    "Some of the information was able to be retrieved,with error message of\"No status found with that ID.\""
   ]
  },
  {
   "cell_type": "markdown",
   "metadata": {},
   "source": [
    "### Assessing data\n",
    "For the initial stages of the assessment,I viewed the beginning and end of each data frame,as well as it's info.\n",
    "\n",
    "* WeRateDogs Twitter achive data (archive)\n",
    "* The Tweet Image Predictions data (images)\n",
    "* Downloaded Tweets data (popularity)\n"
   ]
  },
  {
   "cell_type": "markdown",
   "metadata": {},
   "source": [
    "### Cleaning data\n",
    "After making a clean copy of each data frame in order to refer the original raw data,I began to defining,coding and testing the quality issues and tidiness in the assessment.each issues as below:\n",
    "\n",
    "#### Quality issues:\n",
    "* Missing data : some tweets didn't have images\n",
    "* Dogs given name have to be followig the phrase \"This is...\",but some of them have lowercase words as names\n",
    "* Value of None for dog's names\n",
    "* In archive_clean,the columns'retweeted_status_id' 'retweeted_status_user_id' and 'retweeted_status_timestamp' are not useful after we get rid of retweets.\n",
    "* timestamp and retweeted_status_timestamp are stored as strings\n",
    "* Sources stored html'a<'tag\n",
    "* Some tweets have multiple slashes in the text column that will leading false rating\n",
    "* 'Rating_numerator' and 'rating_denominator' are not useful for rating\n",
    "\n",
    "#### Tidiness\n",
    "* Variables of dog stage stored in the same rows and columns\n",
    "* The retweet_count and favorite_count are stored in a seperate table\n"
   ]
  },
  {
   "cell_type": "markdown",
   "metadata": {},
   "source": [
    "### Storing,Analyzing and Visualizing data\n",
    "\n",
    "Store the clean data frame in a CSV file with the mian one named twitter_archive_master.csv.\n",
    "\n",
    "For the analysis I was interested to see what the average rating was, what the most frequent dog stage was, and to see what kind of relationship there was between `retweet_count` and `favorite_count`. \n",
    "\n",
    "I found that the average rating was around 1.165, the most frequent dog stage was *pupper*, and I found that there appeared to be a positive linear relationship between `retweet_count` and `favorite_count`. \n",
    "\n",
    "\n",
    "There are 3 visualizations and 2 insights which are showed total number of each dog stage,favorite count by retweet count and Top 10 favorite dogs by favorite count,Highest and lowest rated dog.\n",
    "\n"
   ]
  }
 ],
 "metadata": {
  "kernelspec": {
   "display_name": "Python 3",
   "language": "python",
   "name": "python3"
  },
  "language_info": {
   "codemirror_mode": {
    "name": "ipython",
    "version": 3
   },
   "file_extension": ".py",
   "mimetype": "text/x-python",
   "name": "python",
   "nbconvert_exporter": "python",
   "pygments_lexer": "ipython3",
   "version": "3.6.3"
  }
 },
 "nbformat": 4,
 "nbformat_minor": 2
}
